{
 "cells": [
  {
   "cell_type": "markdown",
   "id": "1df78a71",
   "metadata": {
    "id": "1df78a71"
   },
   "source": [
    "# **에이전트(Agent) 구축하기**\n",
    "\n",
    "언어 모델(LLM) 자체는 **행동을 수행할 수 없습니다**  그저 텍스트를 출력할 뿐입니다.  \n",
    "LangChain의 주요 사용 사례 중 하나는 **에이전트(Agents)** 를 만드는 것입니다.  \n",
    "\n",
    "**에이전트(Agents)** 는 **LLM**을 **추론 엔진**으로 사용하여 어떤 행동을 취해야 하는지, 그리고 행동을 수행하는 데 필요한 입력이 무엇인지 결정하는 시스템입니다.  \n",
    "행동을 실행한 후 결과를 LLM에 다시 전달하여 **더 많은 행동이 필요한지** 또는 **작업을 종료해도 되는지**를 판단할 수 있습니다. 이는 종종 **도구 호출(tool-calling)** 을 통해 이루어집니다.  \n",
    "\n",
    "---\n",
    "\n",
    "이 노트북에서는 **검색 엔진과 상호작용할 수 있는 에이전트**를 구축합니다.  \n",
    "- 사용자는 이 에이전트에게 질문을 할 수 있습니다.  \n",
    "- 에이전트가 검색 도구를 호출하는 과정을 볼 수 있습니다.  \n",
    "- 에이전트와 여러 차례 대화를 나눌 수 있습니다.  \n",
    "\n",
    "---\n",
    "\n",
    "## **엔드 투 엔드 에이전트 (End-to-end Agent)**\n",
    "\n",
    "아래 코드는 **도구(tool)** 를 사용하여 어떤 행동을 취해야 할지 결정하는 LLM을 활용한 **완전히 기능하는 에이전트**를 보여줍니다.  \n",
    "- 이 에이전트는 **일반적인 검색 도구**를 사용할 수 있습니다.  \n",
    "- **대화 메모리(conversational memory)** 를 갖추고 있어 다중 턴 대화가 가능합니다.\n",
    "- 도구 정의 - 우리의 주요 선택 도구는 **Tavily**입니다. Tavily는 **검색 엔진**으로, LangChain에는 Tavily 검색 엔진을 쉽게 사용할 수 있도록 지원하는 **내장 도구**가 포함되어 있습니다.\n"
   ]
  },
  {
   "cell_type": "code",
   "execution_count": null,
   "id": "157e49af-c63c-4bd6-b12a-97d9fbcd05b6",
   "metadata": {},
   "outputs": [],
   "source": [
    "# !pip install -qU tavily-python langgraph-checkpoint-sqlite"
   ]
  },
  {
   "cell_type": "code",
   "execution_count": 1,
   "id": "c00462d3",
   "metadata": {},
   "outputs": [
    {
     "data": {
      "text/plain": [
       "True"
      ]
     },
     "execution_count": 1,
     "metadata": {},
     "output_type": "execute_result"
    }
   ],
   "source": [
    "import os\n",
    "from dotenv import load_dotenv\n",
    "load_dotenv()"
   ]
  },
  {
   "cell_type": "code",
   "execution_count": 2,
   "id": "6708222d",
   "metadata": {},
   "outputs": [],
   "source": [
    "# LangSmith 추적 설정 활성화\n",
    "os.environ[\"LANGSMITH_TRACING\"] = \"true\""
   ]
  },
  {
   "cell_type": "code",
   "execution_count": 3,
   "id": "66db67fb-a9cb-4832-b691-11987faf4d8d",
   "metadata": {},
   "outputs": [],
   "source": [
    "from langchain_openai import ChatOpenAI\n",
    "from langchain_community.tools.tavily_search import TavilySearchResults\n",
    "from langchain_core.messages import HumanMessage\n",
    "from langgraph.checkpoint.memory import MemorySaver\n",
    "from langgraph.prebuilt import create_react_agent"
   ]
  },
  {
   "cell_type": "markdown",
   "id": "e5a4fb8c-62fc-40a9-8361-7567b9d65765",
   "metadata": {},
   "source": [
    "##  **언어 모델과 도구 정의**\n",
    "\n",
    "먼저 언어 모델과 사용하려는 도구를 생성해야 합니다. 우리의 주요 선택 도구는 **Tavily**입니다. Tavily는 **검색 엔진**으로, LangChain에는 Tavily 검색 엔진을 쉽게 사용할 수 있도록 지원하는 **내장 도구**가 포함되어 있습니다."
   ]
  },
  {
   "cell_type": "code",
   "execution_count": 4,
   "id": "a30d6999-dfda-4e2b-bf66-9ac47d082d97",
   "metadata": {},
   "outputs": [
    {
     "data": {
      "text/plain": [
       "[TavilySearchResults(max_results=2, api_wrapper=TavilySearchAPIWrapper(tavily_api_key=SecretStr('**********')))]"
      ]
     },
     "execution_count": 4,
     "metadata": {},
     "output_type": "execute_result"
    }
   ],
   "source": [
    "model = ChatOpenAI(model=\"gpt-4o-mini\")\n",
    "\n",
    "# 검색 도구 설정 (최대 검색 결과 2개)\n",
    "search = TavilySearchResults(max_results=2)\n",
    "\n",
    "# 사용할 모든 도구를 하나의 리스트에 넣어서 나중에 참조할 수 있도록 설정\n",
    "tools = [search]\n",
    "tools"
   ]
  },
  {
   "cell_type": "markdown",
   "id": "8cf4313f-92b1-45f0-9e2c-7ad6b6e2cc92",
   "metadata": {},
   "source": [
    "### 1) 도구 없이 LLM 만 호출할 경우"
   ]
  },
  {
   "cell_type": "code",
   "execution_count": 5,
   "id": "49cde2cb-8c10-4032-82ba-d5273f308225",
   "metadata": {},
   "outputs": [
    {
     "name": "stdout",
     "output_type": "stream",
     "text": [
      "안녕하세요! 현재 서울의 날씨는 제가 실시간으로 확인할 수 없지만, 일반적으로 서울의 날씨는 계절에 따라 다르기 때문에, 날씨 앱이나 웹사이트를 통해 최신 정보를 확인하는 것이 좋습니다. 가을에는 선선하고 쌀쌀하며, 겨울에는 춥고 눈이 올 수 있습니다. 필요한 다른 정보가 있으면 말씀해 주세요!\n"
     ]
    }
   ],
   "source": [
    "print(model.invoke(\"안녕, 나는 서울에 살고 있어. 내가 사는 곳의 날씨를 알려줘\").content)"
   ]
  },
  {
   "cell_type": "markdown",
   "id": "d3984cdc-1082-4b10-8a1f-4406d5bb32db",
   "metadata": {},
   "source": [
    "### 2) Agent 구축 않고 LLM에 도구 목록만 전달할 경우\n",
    "이제 이 모델이 도구 호출을 수행하도록 활성화하기 위해 `.bind_tools`를 사용하여 언어 모델에 이러한 도구에 대한 지식을 제공합니다."
   ]
  },
  {
   "cell_type": "code",
   "execution_count": 6,
   "id": "e9652470-564f-481b-bc1e-3693167f31e0",
   "metadata": {},
   "outputs": [
    {
     "name": "stdout",
     "output_type": "stream",
     "text": [
      "content='' additional_kwargs={'tool_calls': [{'id': 'call_L8n3X57MiHuaOST9qW0IUq6T', 'function': {'arguments': '{\"query\":\"서울 날씨\"}', 'name': 'tavily_search_results_json'}, 'type': 'function'}], 'refusal': None} response_metadata={'token_usage': {'completion_tokens': 21, 'prompt_tokens': 99, 'total_tokens': 120, 'completion_tokens_details': {'accepted_prediction_tokens': 0, 'audio_tokens': 0, 'reasoning_tokens': 0, 'rejected_prediction_tokens': 0}, 'prompt_tokens_details': {'audio_tokens': 0, 'cached_tokens': 0}}, 'model_name': 'gpt-4o-mini-2024-07-18', 'system_fingerprint': 'fp_06737a9306', 'finish_reason': 'tool_calls', 'logprobs': None} id='run-3f495a8c-70df-4b8e-bc52-34a9b01d1ac7-0' tool_calls=[{'name': 'tavily_search_results_json', 'args': {'query': '서울 날씨'}, 'id': 'call_L8n3X57MiHuaOST9qW0IUq6T', 'type': 'tool_call'}] usage_metadata={'input_tokens': 99, 'output_tokens': 21, 'total_tokens': 120, 'input_token_details': {'audio': 0, 'cache_read': 0}, 'output_token_details': {'audio': 0, 'reasoning': 0}}\n"
     ]
    }
   ],
   "source": [
    "# `bind_tools` 메서드를 사용하여 언어 모델이 특정 도구 목록을 사용할 수 있도록 설정합니다.\n",
    "model_with_tools = model.bind_tools(tools)\n",
    "\n",
    "response = model_with_tools.invoke([HumanMessage(content=\"안녕, 나는 서울에 살고 있어. 내가 사는 곳의 날씨를 알려줘\")])\n",
    "print(response)"
   ]
  },
  {
   "cell_type": "code",
   "execution_count": 7,
   "id": "d9f004cc-922d-41c1-9a5c-31fd49efae07",
   "metadata": {},
   "outputs": [
    {
     "name": "stdout",
     "output_type": "stream",
     "text": [
      "[{'name': 'tavily_search_results_json', 'args': {'query': '서울 날씨'}, 'id': 'call_L8n3X57MiHuaOST9qW0IUq6T', 'type': 'tool_call'}]\n"
     ]
    }
   ],
   "source": [
    "print(response.tool_calls)"
   ]
  },
  {
   "cell_type": "markdown",
   "id": "1538289f-f695-40df-960e-b047891e5d99",
   "metadata": {},
   "source": [
    "모델은 우리가 **Tavily Search** 도구를 호출하라고 알려주며 도구 호출에 필요한 argument를 만들어 줍니다.  \n",
    "하지만 이것은 아직 해당 도구를 호출한 것이 아니라, 단지 호출해야 한다고 알려주는 것입니다. 실제로 도구를 호출하려면 **에이전트(agent)** 를 만들어야 합니다."
   ]
  },
  {
   "cell_type": "markdown",
   "id": "e4a4d1db-59f1-4d71-a3c8-29851d4af9d7",
   "metadata": {},
   "source": [
    "## Agent 생성\n",
    "\n",
    "- LLM은 **상태를 저장하지 않는(stateless)** 이므로 이전 상호작용을 기억하지 않습니다. 에이전트에 메모리를 추가하려면 **체크포인터(checkpointer)** 를 전달해야 합니다. 또한 에이전트를 호출할 때 `thread_id`를 함께 전달해야 합니다. 이를 통해 에이전트는 어느 스레드(대화)에서부터 상호작용을 이어가야 하는지 알 수 있습니다.\n",
    "\n",
    "- ReAct 에이전트를 구성하기 위해 Langgraph에서 제공하는 고수준 인터페이스(high-level interface)인 `create_react_agent`를 사용합니다. 이를 통해 에이전트 로직을 원하는 대로 세부적으로 수정할 수 있습니다. `create_react_agent`는 내부적으로 `.bind_tools`를 호출해 도구를 모델에 연결합니다."
   ]
  },
  {
   "cell_type": "code",
   "execution_count": 8,
   "id": "e5cb23e0",
   "metadata": {},
   "outputs": [],
   "source": [
    "# 에이전트의 메모리 저장 객체 생성\n",
    "memory = MemorySaver()  \n",
    "\n",
    "# 에이전트 실행 객체 생성\n",
    "agent_executor = create_react_agent(model, tools, checkpointer=memory)\n",
    "\n",
    "# 에이전트 실행 구성 설정\n",
    "config = {\"configurable\": {\"thread_id\": \"abc123\"}}"
   ]
  },
  {
   "cell_type": "markdown",
   "id": "cfea2753-5f98-4b95-9568-0922b133f336",
   "metadata": {},
   "source": [
    "## 스트리밍 메시지  \n",
    "\n",
    "우리는 `.invoke`를 사용해 에이전트를 호출하고 최종 응답을 받는 방법을 알고 있습니다. 하지만 에이전트가 여러 단계를 실행해야 할 경우 시간이 오래 걸릴 수 있습니다.  \n",
    "중간 진행 상황을 보여주기 위해, 발생하는 메시지를 스트리밍 형태로 실시간 전송할 수 있습니다."
   ]
  },
  {
   "cell_type": "code",
   "execution_count": 9,
   "id": "20a5ac3b",
   "metadata": {},
   "outputs": [
    {
     "name": "stdout",
     "output_type": "stream",
     "text": [
      "{'agent': {'messages': [AIMessage(content='안녕하세요, 길동님! 서울에 살고 계시군요. 서울은 정말 멋진 도시죠. 어떻게 도와드릴까요?', additional_kwargs={'refusal': None}, response_metadata={'token_usage': {'completion_tokens': 34, 'prompt_tokens': 94, 'total_tokens': 128, 'completion_tokens_details': {'accepted_prediction_tokens': 0, 'audio_tokens': 0, 'reasoning_tokens': 0, 'rejected_prediction_tokens': 0}, 'prompt_tokens_details': {'audio_tokens': 0, 'cached_tokens': 0}}, 'model_name': 'gpt-4o-mini-2024-07-18', 'system_fingerprint': 'fp_06737a9306', 'finish_reason': 'stop', 'logprobs': None}, id='run-1151f8dc-3ccf-4c0f-b65f-95b8dddc9996-0', usage_metadata={'input_tokens': 94, 'output_tokens': 34, 'total_tokens': 128, 'input_token_details': {'audio': 0, 'cache_read': 0}, 'output_token_details': {'audio': 0, 'reasoning': 0}})]}}\n",
      "---------------------------------------------------------------------\n"
     ]
    }
   ],
   "source": [
    "# 에이전트 실행\n",
    "for chunk in agent_executor.stream(\n",
    "    {\"messages\": [HumanMessage(content=\"안녕! 나는 길동이야. 서울에 살고 있어.\")]},\n",
    "    config\n",
    "):\n",
    "    print(chunk)  # 에이전트의 응답 출력\n",
    "    # print(chunk['agent']['messages'][0].content)  # 에이전트의 응답 출력\n",
    "    print(\"---------------------------------------------------------------------\")  # 응답 구분선 출력"
   ]
  },
  {
   "cell_type": "markdown",
   "id": "6b25c3df-6272-431e-9bbe-33d25ea1b516",
   "metadata": {},
   "source": [
    "#### 메모리가 필요한 질문 "
   ]
  },
  {
   "cell_type": "code",
   "execution_count": 10,
   "id": "01a41943-c87d-4927-ac0f-ead1b73b5bf3",
   "metadata": {},
   "outputs": [
    {
     "name": "stdout",
     "output_type": "stream",
     "text": [
      "길동님, 당신의 이름은 길동이고 서울에 살고 있다고 말씀하셨습니다. 맞나요?\n",
      "------------------------------------------------------------------------\n"
     ]
    }
   ],
   "source": [
    "for chunk in agent_executor.stream(\n",
    "    {\"messages\": [HumanMessage(content=\"내 이름이 뭐고 어디에 살고 있다고 했지?\")]},\n",
    "    config\n",
    "):\n",
    "    print(chunk['agent']['messages'][0].content)\n",
    "    print(\"------------------------------------------------------------------------\")  # 응답 구분선 출력"
   ]
  },
  {
   "cell_type": "markdown",
   "id": "47848675-bab3-49be-bb55-3c7213f5fc16",
   "metadata": {},
   "source": [
    "#### ReAct 패턴의 질문/응답 \n",
    "질문이 단순 정보 조회가 아닌, 추론과 행동을 반복해야 해결 가능한 질문  \n",
    "예) 내가 사는 곳의 날씨를 알려줘 \n",
    "- Reasoning(추론) - 사용자의 위치를 알아야 하고, 날씨 API에서 날씨 정보를 가져와야 한다. (LLM 역할)  \n",
    "- Acting(행동) - TavilySearchResults API 호출 (LangChin 역할)  \n",
    "- Observation(관찰) - API로부터 \"오늘 서울은 맑음\"이라는 정보를 받았다. 이 것을 LLM에 다시 전달. (LangChain 역할)\n",
    "- Reasoning(추론) - \"이제 사용자에게 서울의 날씨가 맑다고 답변해야 한다.\"  (LLM의 역할)  \n",
    "- Answer(응답) - \"서울의 날씨는 맑음입니다.\" (LLM의 역할)  "
   ]
  },
  {
   "cell_type": "code",
   "execution_count": 11,
   "id": "88bc07fc-b9b2-4c65-8b5b-12394f9218f8",
   "metadata": {},
   "outputs": [
    {
     "name": "stdout",
     "output_type": "stream",
     "text": [
      "{'agent': {'messages': [AIMessage(content='', additional_kwargs={'tool_calls': [{'id': 'call_MgjvSBviul2TLZCBzkTV92Xe', 'function': {'arguments': '{\"query\":\"서울 날씨\"}', 'name': 'tavily_search_results_json'}, 'type': 'function'}], 'refusal': None}, response_metadata={'token_usage': {'completion_tokens': 21, 'prompt_tokens': 191, 'total_tokens': 212, 'completion_tokens_details': {'accepted_prediction_tokens': 0, 'audio_tokens': 0, 'reasoning_tokens': 0, 'rejected_prediction_tokens': 0}, 'prompt_tokens_details': {'audio_tokens': 0, 'cached_tokens': 0}}, 'model_name': 'gpt-4o-mini-2024-07-18', 'system_fingerprint': 'fp_06737a9306', 'finish_reason': 'tool_calls', 'logprobs': None}, id='run-3186e65b-a829-4b29-86ac-f1a699763cf9-0', tool_calls=[{'name': 'tavily_search_results_json', 'args': {'query': '서울 날씨'}, 'id': 'call_MgjvSBviul2TLZCBzkTV92Xe', 'type': 'tool_call'}], usage_metadata={'input_tokens': 191, 'output_tokens': 21, 'total_tokens': 212, 'input_token_details': {'audio': 0, 'cache_read': 0}, 'output_token_details': {'audio': 0, 'reasoning': 0}})]}}\n",
      "-----------------------------------------------------------------------\n",
      "{'tools': {'messages': [ToolMessage(content='[{\"url\": \"https://www.accuweather.com/ko/kr/seoul/226081/weather-forecast/226081\", \"content\": \"서울특별시, 서울시, 대한민국 3일 날씨 예보 | AccuWeather 서울특별시 서울시 19° 오늘 WinterCast 지역 {stormName} 추적기 시간별 일별 레이더 MinuteCast 월 대기질 건강 및 활동 오늘 --WinterCast 시간별 일별 레이더 MinuteCast 월 대기질 건강 및 활동 2 한파 주의보현재 기상 ----- AM 12:55 19°F RealFeel® 19° 대체로 맑음 추가 상세 정보 바람 북북서 4mi/h 돌풍 6mi/h 대기질 나쁨전망 -- 화요일 심야 진눈깨비와 어는 비가 내림WinterCast® ----------- 늦은 화 밤  우박 2 시간 지속 37° 20° 대체로 맑음 맑고 추움 2%화 2. 42° 20° 오전 중 때때로 비와 보슬비가 내림; 흐림 대체로 맑고 추움 69%목 2. 44° 25° 대체로 맑음 약간 흐림 0%토 2. 50° 32° 약간 흐림 맑음 0%화 2. 46° 26° 약간 흐림 대체로 흐림 1% 전 세계 아시아 대한민국 서울시 서울특별시\"}, {\"url\": \"https://www.accuweather.com/ko/kr/seoul/226081/hourly-weather-forecast/226081\", \"content\": \"서울특별시, 서울시, 대한민국 시간별 날씨 | AccuWeather 서울특별시, 서울시 ========== 29°F 서울특별시 서울시 29° 서울특별시, 서울시 날씨 오늘 WinterCast 지역 {stormName} 추적기 시간별 일별 레이더 MinuteCast 월 대기질 건강 및 활동 오늘시간별 ---일별 레이더 MinuteCast 월 대기질 건강 및 활동 To view this video please enable JavaScript, and consider upgrading to a web browser that supports HTML5video Video Player is loading. Current Time\\xa00:00 Loaded: 0% Seek to live, currently behind liveLIVE descriptions off, selected subtitles settings, opens subtitles settings dialog subtitles off, selected Beginning of dialog window. Text BackgroundColorOpacity Close Modal DialogEnd of dialog window. 전 세계 아시아 대한민국 서울시 서울특별시 이용 약관 | 개인정보 보호정책 | 쿠키 사용 정책 | 내 데이터 판매 금지  확인 귀하의 데이터 판매 안함 개인정보 보호정책과 쿠키 사용 정책이 업데이트되었습니다.\"}]', name='tavily_search_results_json', id='a576d397-e4a0-47a5-b3dd-3e58ee8260b9', tool_call_id='call_MgjvSBviul2TLZCBzkTV92Xe', artifact={'query': '서울 날씨', 'follow_up_questions': None, 'answer': None, 'images': [], 'results': [{'url': 'https://www.accuweather.com/ko/kr/seoul/226081/weather-forecast/226081', 'title': '서울특별시, 서울시, 대한민국 3일 날씨 예보 - AccuWeather', 'content': '서울특별시, 서울시, 대한민국 3일 날씨 예보 | AccuWeather 서울특별시 서울시 19° 오늘 WinterCast 지역 {stormName} 추적기 시간별 일별 레이더 MinuteCast 월 대기질 건강 및 활동 오늘 --WinterCast 시간별 일별 레이더 MinuteCast 월 대기질 건강 및 활동 2 한파 주의보현재 기상 ----- AM 12:55 19°F RealFeel® 19° 대체로 맑음 추가 상세 정보 바람 북북서 4mi/h 돌풍 6mi/h 대기질 나쁨전망 -- 화요일 심야 진눈깨비와 어는 비가 내림WinterCast® ----------- 늦은 화 밤  우박 2 시간 지속 37° 20° 대체로 맑음 맑고 추움 2%화 2. 42° 20° 오전 중 때때로 비와 보슬비가 내림; 흐림 대체로 맑고 추움 69%목 2. 44° 25° 대체로 맑음 약간 흐림 0%토 2. 50° 32° 약간 흐림 맑음 0%화 2. 46° 26° 약간 흐림 대체로 흐림 1% 전 세계 아시아 대한민국 서울시 서울특별시', 'score': 0.7293082, 'raw_content': None}, {'url': 'https://www.accuweather.com/ko/kr/seoul/226081/hourly-weather-forecast/226081', 'title': '서울특별시, 서울시, 대한민국 시간별 날씨 - AccuWeather', 'content': '서울특별시, 서울시, 대한민국 시간별 날씨 | AccuWeather 서울특별시, 서울시 ========== 29°F 서울특별시 서울시 29° 서울특별시, 서울시 날씨 오늘 WinterCast 지역 {stormName} 추적기 시간별 일별 레이더 MinuteCast 월 대기질 건강 및 활동 오늘시간별 ---일별 레이더 MinuteCast 월 대기질 건강 및 활동 To view this video please enable JavaScript, and consider upgrading to a web browser that supports HTML5video Video Player is loading. Current Time\\xa00:00 Loaded: 0% Seek to live, currently behind liveLIVE descriptions off, selected subtitles settings, opens subtitles settings dialog subtitles off, selected Beginning of dialog window. Text BackgroundColorOpacity Close Modal DialogEnd of dialog window. 전 세계 아시아 대한민국 서울시 서울특별시 이용 약관 | 개인정보 보호정책 | 쿠키 사용 정책 | 내 데이터 판매 금지  확인 귀하의 데이터 판매 안함 개인정보 보호정책과 쿠키 사용 정책이 업데이트되었습니다.', 'score': 0.6186197, 'raw_content': None}], 'response_time': 1.13})]}}\n",
      "-----------------------------------------------------------------------\n",
      "{'agent': {'messages': [AIMessage(content='현재 서울의 날씨는 대체로 맑고 기온은 약 19도입니다. 바람은 북북서 방향으로 시속 4마일로 불고 있습니다. 대기질은 나쁜 편으로, 주의가 필요합니다.\\n\\n더 자세한 정보는 [AccuWeather에서 확인하실 수 있습니다.](https://www.accuweather.com/ko/kr/seoul/226081/weather-forecast/226081)\\n\\n추가로 궁금한 사항이 있으신가요?', additional_kwargs={'refusal': None}, response_metadata={'token_usage': {'completion_tokens': 110, 'prompt_tokens': 810, 'total_tokens': 920, 'completion_tokens_details': {'accepted_prediction_tokens': 0, 'audio_tokens': 0, 'reasoning_tokens': 0, 'rejected_prediction_tokens': 0}, 'prompt_tokens_details': {'audio_tokens': 0, 'cached_tokens': 0}}, 'model_name': 'gpt-4o-mini-2024-07-18', 'system_fingerprint': 'fp_06737a9306', 'finish_reason': 'stop', 'logprobs': None}, id='run-f00e0d5a-9d3e-489f-83f0-04b55c95a899-0', usage_metadata={'input_tokens': 810, 'output_tokens': 110, 'total_tokens': 920, 'input_token_details': {'audio': 0, 'cache_read': 0}, 'output_token_details': {'audio': 0, 'reasoning': 0}})]}}\n",
      "-----------------------------------------------------------------------\n"
     ]
    }
   ],
   "source": [
    "for chunk in agent_executor.stream(\n",
    "    {\"messages\": [HumanMessage(content=\"내가 사는 곳의 날씨를 알려줘.\")]},\n",
    "    config\n",
    "):\n",
    "    print(chunk)  # 에이전트의 응답 출력\n",
    "    print(\"-----------------------------------------------------------------------\")  # 응답 구분선 출력"
   ]
  },
  {
   "cell_type": "code",
   "execution_count": 12,
   "id": "0726aeb4-d09b-47e4-9c5a-8b209e01572f",
   "metadata": {},
   "outputs": [
    {
     "name": "stdout",
     "output_type": "stream",
     "text": [
      "현재 서울의 날씨는 대체로 맑고 기온은 약 19도입니다. 바람은 북북서 방향으로 시속 4마일로 불고 있습니다. 대기질은 나쁜 편으로, 주의가 필요합니다.\n",
      "\n",
      "더 자세한 정보는 [AccuWeather에서 확인하실 수 있습니다.](https://www.accuweather.com/ko/kr/seoul/226081/weather-forecast/226081)\n",
      "\n",
      "추가로 궁금한 사항이 있으신가요?\n"
     ]
    }
   ],
   "source": [
    "print(chunk['agent']['messages'][0].content)"
   ]
  },
  {
   "cell_type": "markdown",
   "id": "fce1f71f-ef0b-4dd7-b4c5-566f4cb0187a",
   "metadata": {},
   "source": [
    "Example [LangSmith trace](https://smith.langchain.com/o/351c6cd9-1396-5c74-9478-1ee6a22a6433/projects/p/acec9d4d-4978-4597-adff-789cd42e200f?timeModel=%7B%22duration%22%3A%227d%22%7D&peek=17495aca-857d-4d57-95e7-6c05ac8348d7)"
   ]
  },
  {
   "cell_type": "markdown",
   "id": "ae908088",
   "metadata": {
    "id": "ae908088"
   },
   "source": [
    "새로운 대화를 시작하려면 사용 중인 `thread_id`를 변경하기만 하면 됩니다."
   ]
  },
  {
   "cell_type": "code",
   "execution_count": 13,
   "id": "2e5680a6",
   "metadata": {},
   "outputs": [
    {
     "name": "stdout",
     "output_type": "stream",
     "text": [
      "{'agent': {'messages': [AIMessage(content='죄송하지만, 당신의 이름을 알 수 있는 정보가 없습니다. 이름을 알려주시면 그에 맞춰 대화할 수 있습니다!', additional_kwargs={'refusal': None}, response_metadata={'token_usage': {'completion_tokens': 32, 'prompt_tokens': 85, 'total_tokens': 117, 'completion_tokens_details': {'accepted_prediction_tokens': 0, 'audio_tokens': 0, 'reasoning_tokens': 0, 'rejected_prediction_tokens': 0}, 'prompt_tokens_details': {'audio_tokens': 0, 'cached_tokens': 0}}, 'model_name': 'gpt-4o-mini-2024-07-18', 'system_fingerprint': 'fp_06737a9306', 'finish_reason': 'stop', 'logprobs': None}, id='run-62714ed0-df40-4162-97b7-8163c26f0b82-0', usage_metadata={'input_tokens': 85, 'output_tokens': 32, 'total_tokens': 117, 'input_token_details': {'audio': 0, 'cache_read': 0}, 'output_token_details': {'audio': 0, 'reasoning': 0}})]}}\n",
      "----\n"
     ]
    }
   ],
   "source": [
    "config = {\"configurable\": {\"thread_id\": \"xyz123\"}}\n",
    "for chunk in agent_executor.stream(\n",
    "    {\"messages\": [HumanMessage(content=\"내 이름이 뭐야?\")]}, config\n",
    "):\n",
    "    print(chunk)\n",
    "    print(\"----\")"
   ]
  },
  {
   "cell_type": "markdown",
   "id": "8962d3ee-f08f-443e-9763-d78ecaab5fde",
   "metadata": {},
   "source": [
    "### 여러개의 Tool 적용"
   ]
  },
  {
   "cell_type": "code",
   "execution_count": 14,
   "id": "46a588e4",
   "metadata": {},
   "outputs": [],
   "source": [
    "# 계산기 함수 정의\n",
    "def calculator(expression: str) -> str:\n",
    "    \"\"\"주어진 수학 표현식을 평가하여 결과를 반환합니다.\"\"\"\n",
    "    try:\n",
    "        result = eval(expression)\n",
    "        return str(result)\n",
    "    except Exception as e:\n",
    "        return f\"오류: {e}\"\n",
    "\n",
    "tools = [search, calculator]"
   ]
  },
  {
   "cell_type": "code",
   "execution_count": 15,
   "id": "38f143fe-da7e-4b3b-9e86-38ca51efe737",
   "metadata": {},
   "outputs": [],
   "source": [
    "# 에이전트의 메모리 저장 객체 생성\n",
    "memory = MemorySaver()  \n",
    "\n",
    "# 에이전트 실행 객체 생성\n",
    "agent_executor = create_react_agent(model, tools, checkpointer=memory)\n",
    "\n",
    "# 에이전트 실행 구성 설정\n",
    "config = {\"configurable\": {\"thread_id\": \"abc123\"}}"
   ]
  },
  {
   "cell_type": "code",
   "execution_count": 16,
   "id": "686863f1-b471-460c-9f9d-29a2c41c92ac",
   "metadata": {},
   "outputs": [
    {
     "name": "stdout",
     "output_type": "stream",
     "text": [
      "{'agent': {'messages': [AIMessage(content='', additional_kwargs={'tool_calls': [{'id': 'call_RPfEOEFyYdxVsC0hhQr5rFs5', 'function': {'arguments': '{\"query\":\"서울 기온\"}', 'name': 'tavily_search_results_json'}, 'type': 'function'}], 'refusal': None}, response_metadata={'token_usage': {'completion_tokens': 21, 'prompt_tokens': 121, 'total_tokens': 142, 'completion_tokens_details': {'accepted_prediction_tokens': 0, 'audio_tokens': 0, 'reasoning_tokens': 0, 'rejected_prediction_tokens': 0}, 'prompt_tokens_details': {'audio_tokens': 0, 'cached_tokens': 0}}, 'model_name': 'gpt-4o-mini-2024-07-18', 'system_fingerprint': 'fp_06737a9306', 'finish_reason': 'tool_calls', 'logprobs': None}, id='run-450b0c54-d426-410f-8350-9286e51c80cc-0', tool_calls=[{'name': 'tavily_search_results_json', 'args': {'query': '서울 기온'}, 'id': 'call_RPfEOEFyYdxVsC0hhQr5rFs5', 'type': 'tool_call'}], usage_metadata={'input_tokens': 121, 'output_tokens': 21, 'total_tokens': 142, 'input_token_details': {'audio': 0, 'cache_read': 0}, 'output_token_details': {'audio': 0, 'reasoning': 0}})]}}\n",
      "---------------------------------------------------------------------\n",
      "{'tools': {'messages': [ToolMessage(content='[{\"url\": \"https://korean.visitseoul.net/weather\", \"content\": \"서울 실시간 날씨 정보 | 서울 공식 관광정보 웹사이트 스마트한 서울 여행 스마트한 서울 여행 지금의 서울 지금의 서울 Visit Seoul 이벤트 서울 실시간 관광가이드 나의 서울 큐레이션 다양한 테마의 서울 여행 About Seoul 검색 영역 열기 나의 찜한 목록 바로가기 Seoul Stay Accessible Seoul Seoul Hiking Tourism 검색 영역 열기  검색어 삭제 검색실행 나의 찜한 목록 바로가기 > 여행정보> 서울의 날씨 3일 예보 : 날짜, 날씨, 최저/최고기온(℃), 강수확률 날짜오늘 : 2025-02-25내일 : 2025-02-26모레 : 2025-02-27날씨구름많음맑음맑음최저/최고기온(℃)-2℃ / 7℃-2℃ / 6℃-1℃ / 11℃강수확률20% / 20%10% / 0%- 주간예보 : 날짜, 날씨, 최저/최고기온(℃)      날짜2025-02-252025-02-262025-02-272025-02-282025-03-01날씨구름많음맑음맑음흐림흐림최저/최고기온(℃)-2℃ / 7℃-2℃ / 6℃-1℃ / 11℃3℃ / 13℃5℃ / 12℃ STO 서울관광재단 SEOUL TOURISM ORGANIZATION SEOUL MY SOUL 관광불편처리센터 일반 관광 문의 1330 AA APP AWARD24 INNOVATOR 스마트앱어워드\"}, {\"url\": \"https://www.accuweather.com/ko/kr/seoul/226081/current-weather/226081\", \"content\": \"서울특별시, 서울시, 대한민국 현재 날씨 | AccuWeather 서울특별시, 서울시 ========== 31°F 현재 위치 사용 서울특별시 서울시 31° 서울특별시, 서울시 날씨 오늘 WinterCast 지역 {stormName} 추적기 시간별 일별 레이더 MinuteCast 월 대기질 건강 및 활동 오늘 WinterCast 시간별 일별 레이더 MinuteCast 월 대기질 건강 및 활동 RealFeel® 36° 추움 RealFeel Shade™ 32° 추움 36° 32° 최대 자외선 지수 남남서 4mi/h 4mi/h 8° F 10mi RealFeel® 37° 추움 RealFeel Shade™ 33° 추움 최대 자외선 지수3 보통 바람서남서 5mi/h 강수 확률40% 강수0.00in 강수 시간2 RealFeel® 18° 매우 추움 맑고 추움 바람남남동 2mi/h 강수 확률0% 강수0.00in 일몰 PM 6:05 일출 PM 3:32 36° 17° 36° 19° 45° 29° ### 시간별### 일별### 월 전 세계 아시아 대한민국 서울시 서울특별시 동작구, 서울시 마포구, 서울시 서대문구, 서울시\"}]', name='tavily_search_results_json', id='5442d686-4e23-4aec-8a84-0fdcf64fb553', tool_call_id='call_RPfEOEFyYdxVsC0hhQr5rFs5', artifact={'query': '서울 기온', 'follow_up_questions': None, 'answer': None, 'images': [], 'results': [{'url': 'https://korean.visitseoul.net/weather', 'title': '서울 실시간 날씨 정보 | 서울 공식 관광정보 웹사이트', 'content': '서울 실시간 날씨 정보 | 서울 공식 관광정보 웹사이트 스마트한 서울 여행 스마트한 서울 여행 지금의 서울 지금의 서울 Visit Seoul 이벤트 서울 실시간 관광가이드 나의 서울 큐레이션 다양한 테마의 서울 여행 About Seoul 검색 영역 열기 나의 찜한 목록 바로가기 Seoul Stay Accessible Seoul Seoul Hiking Tourism 검색 영역 열기  검색어 삭제 검색실행 나의 찜한 목록 바로가기 > 여행정보> 서울의 날씨 3일 예보 : 날짜, 날씨, 최저/최고기온(℃), 강수확률 날짜오늘 : 2025-02-25내일 : 2025-02-26모레 : 2025-02-27날씨구름많음맑음맑음최저/최고기온(℃)-2℃ / 7℃-2℃ / 6℃-1℃ / 11℃강수확률20% / 20%10% / 0%- 주간예보 : 날짜, 날씨, 최저/최고기온(℃)      날짜2025-02-252025-02-262025-02-272025-02-282025-03-01날씨구름많음맑음맑음흐림흐림최저/최고기온(℃)-2℃ / 7℃-2℃ / 6℃-1℃ / 11℃3℃ / 13℃5℃ / 12℃ STO 서울관광재단 SEOUL TOURISM ORGANIZATION SEOUL MY SOUL 관광불편처리센터 일반 관광 문의 1330 AA APP AWARD24 INNOVATOR 스마트앱어워드', 'score': 0.6852132, 'raw_content': None}, {'url': 'https://www.accuweather.com/ko/kr/seoul/226081/current-weather/226081', 'title': '서울특별시, 서울시, 대한민국 현재 날씨 - AccuWeather', 'content': '서울특별시, 서울시, 대한민국 현재 날씨 | AccuWeather 서울특별시, 서울시 ========== 31°F 현재 위치 사용 서울특별시 서울시 31° 서울특별시, 서울시 날씨 오늘 WinterCast 지역 {stormName} 추적기 시간별 일별 레이더 MinuteCast 월 대기질 건강 및 활동 오늘 WinterCast 시간별 일별 레이더 MinuteCast 월 대기질 건강 및 활동 RealFeel® 36° 추움 RealFeel Shade™ 32° 추움 36° 32° 최대 자외선 지수 남남서 4mi/h 4mi/h 8° F 10mi RealFeel® 37° 추움 RealFeel Shade™ 33° 추움 최대 자외선 지수3 보통 바람서남서 5mi/h 강수 확률40% 강수0.00in 강수 시간2 RealFeel® 18° 매우 추움 맑고 추움 바람남남동 2mi/h 강수 확률0% 강수0.00in 일몰 PM 6:05 일출 PM 3:32 36° 17° 36° 19° 45° 29° ### 시간별### 일별### 월 전 세계 아시아 대한민국 서울시 서울특별시 동작구, 서울시 마포구, 서울시 서대문구, 서울시', 'score': 0.58465123, 'raw_content': None}], 'response_time': 1.51})]}}\n",
      "---------------------------------------------------------------------\n",
      "{'agent': {'messages': [AIMessage(content='', additional_kwargs={'tool_calls': [{'id': 'call_IarTdt9LoPGvD1HqMPYPTPzB', 'function': {'arguments': '{\"expression\":\"7*3\"}', 'name': 'calculator'}, 'type': 'function'}], 'refusal': None}, response_metadata={'token_usage': {'completion_tokens': 17, 'prompt_tokens': 864, 'total_tokens': 881, 'completion_tokens_details': {'accepted_prediction_tokens': 0, 'audio_tokens': 0, 'reasoning_tokens': 0, 'rejected_prediction_tokens': 0}, 'prompt_tokens_details': {'audio_tokens': 0, 'cached_tokens': 0}}, 'model_name': 'gpt-4o-mini-2024-07-18', 'system_fingerprint': 'fp_06737a9306', 'finish_reason': 'tool_calls', 'logprobs': None}, id='run-bf8d326f-0d8e-435e-96af-a90cb2ffc634-0', tool_calls=[{'name': 'calculator', 'args': {'expression': '7*3'}, 'id': 'call_IarTdt9LoPGvD1HqMPYPTPzB', 'type': 'tool_call'}], usage_metadata={'input_tokens': 864, 'output_tokens': 17, 'total_tokens': 881, 'input_token_details': {'audio': 0, 'cache_read': 0}, 'output_token_details': {'audio': 0, 'reasoning': 0}})]}}\n",
      "---------------------------------------------------------------------\n",
      "{'tools': {'messages': [ToolMessage(content='21', name='calculator', id='b84654e6-f694-4bc8-a449-69c100a3ecdd', tool_call_id='call_IarTdt9LoPGvD1HqMPYPTPzB')]}}\n",
      "---------------------------------------------------------------------\n",
      "{'agent': {'messages': [AIMessage(content='오늘 서울의 최고 기온은 7도입니다. 이를 3배하면 21이 됩니다.', additional_kwargs={'refusal': None}, response_metadata={'token_usage': {'completion_tokens': 24, 'prompt_tokens': 888, 'total_tokens': 912, 'completion_tokens_details': {'accepted_prediction_tokens': 0, 'audio_tokens': 0, 'reasoning_tokens': 0, 'rejected_prediction_tokens': 0}, 'prompt_tokens_details': {'audio_tokens': 0, 'cached_tokens': 0}}, 'model_name': 'gpt-4o-mini-2024-07-18', 'system_fingerprint': 'fp_06737a9306', 'finish_reason': 'stop', 'logprobs': None}, id='run-88db2ecf-fa13-4277-9459-fc673a39edff-0', usage_metadata={'input_tokens': 888, 'output_tokens': 24, 'total_tokens': 912, 'input_token_details': {'audio': 0, 'cache_read': 0}, 'output_token_details': {'audio': 0, 'reasoning': 0}})]}}\n",
      "---------------------------------------------------------------------\n"
     ]
    }
   ],
   "source": [
    "# 에이전트 실행\n",
    "for chunk in agent_executor.stream(\n",
    "    # {\"messages\": [HumanMessage(content=\"3.14 곱하기 4.15 곱하기 5.5 는 얼마인가요?\")]},\n",
    "    {\"messages\": [HumanMessage(content=\"오늘의 서울의 기온 곱하기 3 은 얼마인가요 ?\")]},\n",
    "    config\n",
    "):\n",
    "    print(chunk)  # 에이전트의 응답 출력\n",
    "    print(\"---------------------------------------------------------------------\")  # 응답 구분선 출력"
   ]
  },
  {
   "cell_type": "code",
   "execution_count": 17,
   "id": "e928f457-cffa-4a8c-9aef-658a6587dfbb",
   "metadata": {},
   "outputs": [
    {
     "name": "stdout",
     "output_type": "stream",
     "text": [
      "오늘 서울의 최고 기온은 7도입니다. 이를 3배하면 21이 됩니다.\n"
     ]
    }
   ],
   "source": [
    "print(chunk['agent']['messages'][0].content)"
   ]
  },
  {
   "cell_type": "code",
   "execution_count": null,
   "id": "3da43b46-fd8e-4af4-b65c-5aca52a8a622",
   "metadata": {},
   "outputs": [],
   "source": []
  }
 ],
 "metadata": {
  "colab": {
   "provenance": []
  },
  "kernelspec": {
   "display_name": "Python 3 (ipykernel)",
   "language": "python",
   "name": "python3"
  },
  "language_info": {
   "codemirror_mode": {
    "name": "ipython",
    "version": 3
   },
   "file_extension": ".py",
   "mimetype": "text/x-python",
   "name": "python",
   "nbconvert_exporter": "python",
   "pygments_lexer": "ipython3",
   "version": "3.9.21"
  }
 },
 "nbformat": 4,
 "nbformat_minor": 5
}
